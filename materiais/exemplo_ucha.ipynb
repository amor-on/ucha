{
  "nbformat": 4,
  "nbformat_minor": 0,
  "metadata": {
    "colab": {
      "provenance": [],
      "authorship_tag": "ABX9TyMPzlU3KL05RcyKiSvRqc2h",
      "include_colab_link": true
    },
    "kernelspec": {
      "name": "python3",
      "display_name": "Python 3"
    },
    "language_info": {
      "name": "python"
    }
  },
  "cells": [
    {
      "cell_type": "markdown",
      "metadata": {
        "id": "view-in-github",
        "colab_type": "text"
      },
      "source": [
        "<a href=\"https://colab.research.google.com/github/amor-on/ucha/blob/main/materiais/exemplo_ucha.ipynb\" target=\"_parent\"><img src=\"https://colab.research.google.com/assets/colab-badge.svg\" alt=\"Open In Colab\"/></a>"
      ]
    },
    {
      "cell_type": "markdown",
      "source": [
        "### Introdución a Google Colab\n",
        "\n",
        "#### Google Colab: entorno de Notebook na nube\n",
        "Google Colab é unha plataforma de investigación que permite executar código Python no navegador. É unha ferramenta gratuita que proporciona acceso a máquinas virtuais con GPUs e TPUs sen necesidade de configuración complexa. Colab é ideal para a investigación de Machine Learning, análise de datos ou educación.\n",
        "\n",
        "- **Google Colab facilita a execución e compartición de cadernos de Jupyter**, permitindo escribir e executar código, gardar e compartir as nosas análises e acceder a recursos computacionais poderosos, todo desde o navegador.\n",
        "- Un dos maiores atractivos de Google Colab é que é **completamente gratuíto**, permitindo a estudantes, investigadores e profesionais acceder a recursos de computación avanzados sen ningún custo.\n",
        "- **Permite o uso de recursos de computación sen necesidade de configuración complexa**: Colab elimina a necesidade de configuración complexa e xestión de dependencias, facendo máis sinxelo o proceso de desenvolvemento e investigación.\n",
        "- **Resultados no momento**: Colab permite executar o código celda por celda para ir comprobando os erros, solucionándoos de xeito máis dinámico e conseguindo resultados finais máis depurados.\n",
        "\n",
        "#### Vantaxes de usar Colab\n",
        "- **Accesibilidade desde o navegador sen necesidade de instalación local**: Podes acceder aos teus cadernos de Colab desde calquera lugar e en calquera momento, só necesitas unha conexión a Internet e un navegador web.\n",
        "- **Facilita o traballo colaborativo en tempo real**: Google Colab soporta o traballo colaborativo en cadernos de Jupyter, permitindo a múltiples usuarios editar documentos simultaneamente e ver os cambios dos demais en tempo real.\n",
        "- **Acceso a hardware de alto rendemento para procesamento de datos e aprendizaxe automática**: Colab proporciona acceso gratuíto a GPUs e TPUs, o que pode acelerar significativamente os cálculos e os procesos de aprendizaxe automática, facendo posibles proxectos que doutro xeito requerirían unha gran inversión en hardware.\n"
      ],
      "metadata": {
        "id": "VyVVHorMyskk"
      }
    },
    {
      "cell_type": "markdown",
      "source": [
        "## Exemplos de uso de Colab"
      ],
      "metadata": {
        "id": "jMcL8xCz4QbE"
      }
    },
    {
      "cell_type": "markdown",
      "source": [
        "### Operacións matemáticas básicas\n"
      ],
      "metadata": {
        "id": "OqFMlqJg4ZsA"
      }
    },
    {
      "cell_type": "code",
      "source": [
        "a = 10\n",
        "b = 5\n",
        "suma = a + b\n",
        "resta = a - b\n",
        "multiplicacion = a * b\n",
        "division = a / b\n",
        "\n",
        "print(\"Suma:\", suma)\n",
        "print(\"Resta:\", resta)\n",
        "print(\"Multiplicación:\", multiplicacion)\n",
        "print(\"División:\", division)"
      ],
      "metadata": {
        "colab": {
          "base_uri": "https://localhost:8080/"
        },
        "id": "McGTD4fI0Pek",
        "outputId": "0274acd2-2d17-45a9-a93c-95a3a81b538f"
      },
      "execution_count": 2,
      "outputs": [
        {
          "output_type": "stream",
          "name": "stdout",
          "text": [
            "Suma: 15\n",
            "Resta: 5\n",
            "Multiplicación: 50\n",
            "División: 2.0\n"
          ]
        }
      ]
    },
    {
      "cell_type": "markdown",
      "source": [
        "### Manipulación de datos"
      ],
      "metadata": {
        "id": "NWmYJ2T04fuu"
      }
    },
    {
      "cell_type": "code",
      "source": [
        "# Creación e manipulación de listas\n",
        "lista_de_numeros = [1, 2, 3, 4, 5]\n",
        "print(\"Lista orixinal:\", lista_de_numeros)\n",
        "\n",
        "# Engadir un elemento ao final da lista\n",
        "lista_de_numeros.append(6)\n",
        "print(\"Lista despois de engadir un elemento:\", lista_de_numeros)\n",
        "\n",
        "# Acceder a un elemento específico da lista\n",
        "terceiro_elemento = lista_de_numeros[2]\n",
        "print(\"O terceiro elemento da lista é:\", terceiro_elemento)\n"
      ],
      "metadata": {
        "colab": {
          "base_uri": "https://localhost:8080/"
        },
        "id": "_kdx2qyy1OcN",
        "outputId": "c4120103-e9bd-4a03-e448-6eef578a12bf"
      },
      "execution_count": 3,
      "outputs": [
        {
          "output_type": "stream",
          "name": "stdout",
          "text": [
            "Lista orixinal: [1, 2, 3, 4, 5]\n",
            "Lista despois de engadir un elemento: [1, 2, 3, 4, 5, 6]\n",
            "O terceiro elemento da lista é: 3\n"
          ]
        }
      ]
    },
    {
      "cell_type": "code",
      "source": [
        "import pandas as pd\n",
        "\n",
        "# Creación dun DataFrame simple\n",
        "data = {'Nomes': ['Ana', 'Luís', 'Carmen', 'Xoán'],\n",
        "        'Idade': [28, 34, 29, 42],\n",
        "        'Cidade': ['Santiago', 'A Coruña', 'Vigo', 'Ferrol']}\n",
        "\n",
        "df = pd.DataFrame(data)\n",
        "\n",
        "# Mostrar o DataFrame\n",
        "print(df)"
      ],
      "metadata": {
        "colab": {
          "base_uri": "https://localhost:8080/"
        },
        "id": "mgCXdrgc1gxV",
        "outputId": "6e62f377-0cd5-43d1-abd9-9c2e836e8a7c"
      },
      "execution_count": 4,
      "outputs": [
        {
          "output_type": "stream",
          "name": "stdout",
          "text": [
            "    Nomes  Idade    Cidade\n",
            "0     Ana     28  Santiago\n",
            "1    Luís     34  A Coruña\n",
            "2  Carmen     29      Vigo\n",
            "3    Xoán     42    Ferrol\n"
          ]
        }
      ]
    },
    {
      "cell_type": "code",
      "source": [
        "from collections import Counter\n",
        "\n",
        "texto =  (\"Colab é un entorno de caderno Jupyter gratuíto que non require configuración e\"\n",
        "        \"que se executa completamente na nube. Con Colab podes escribir e executar código, gardar e compartir as túas análises, \"\n",
        "        \"e acceder a recursos computacionais poderosos, todo de balde desde o teu navegador.\")\n",
        "\n",
        "# Convertir o texto nunha lista de palabras\n",
        "palabras = texto.split()\n",
        "\n",
        "# Contar a frecuencia de cada palabra\n",
        "contador_de_palabras = Counter(palabras)\n",
        "\n",
        "# Mostrar as 5 palabras máis comúns\n",
        "print(contador_de_palabras.most_common(5))"
      ],
      "metadata": {
        "colab": {
          "base_uri": "https://localhost:8080/"
        },
        "id": "v8ZI8J1n1mjm",
        "outputId": "247f74d9-6236-4e3a-c1de-224af1a75d9b"
      },
      "execution_count": 5,
      "outputs": [
        {
          "output_type": "stream",
          "name": "stdout",
          "text": [
            "[('e', 3), ('Colab', 2), ('de', 2), ('é', 1), ('un', 1)]\n"
          ]
        }
      ]
    },
    {
      "cell_type": "code",
      "source": [
        "import plotly.express as px\n",
        "\n",
        "# Datos de muestra\n",
        "df = px.data.iris()\n",
        "\n",
        "# Crear un gráfico de dispersión interactivo\n",
        "fig = px.scatter(df, x=\"sepal_width\", y=\"sepal_length\", color=\"species\",\n",
        "                 size='petal_length', hover_data=['petal_width'])\n",
        "\n",
        "fig.update_layout(title='Iris Dataset: Ancho do sépalo vs. Largo do sépalo',\n",
        "                  xaxis_title='Ancho do sépalo',\n",
        "                  yaxis_title='Largo do sépalo')\n",
        "\n",
        "fig.show()"
      ],
      "metadata": {
        "colab": {
          "base_uri": "https://localhost:8080/",
          "height": 542
        },
        "id": "ulk10PVK10E7",
        "outputId": "d661c0ce-cd02-424e-a010-e57e9da1b3e0"
      },
      "execution_count": 6,
      "outputs": [
        {
          "output_type": "display_data",
          "data": {
            "text/html": [
              "<html>\n",
              "<head><meta charset=\"utf-8\" /></head>\n",
              "<body>\n",
              "    <div>            <script src=\"https://cdnjs.cloudflare.com/ajax/libs/mathjax/2.7.5/MathJax.js?config=TeX-AMS-MML_SVG\"></script><script type=\"text/javascript\">if (window.MathJax && window.MathJax.Hub && window.MathJax.Hub.Config) {window.MathJax.Hub.Config({SVG: {font: \"STIX-Web\"}});}</script>                <script type=\"text/javascript\">window.PlotlyConfig = {MathJaxConfig: 'local'};</script>\n",
              "        <script charset=\"utf-8\" src=\"https://cdn.plot.ly/plotly-2.24.1.min.js\"></script>                <div id=\"07c17b35-9111-4fda-8b0d-28d39155eb31\" class=\"plotly-graph-div\" style=\"height:525px; width:100%;\"></div>            <script type=\"text/javascript\">                                    window.PLOTLYENV=window.PLOTLYENV || {};                                    if (document.getElementById(\"07c17b35-9111-4fda-8b0d-28d39155eb31\")) {                    Plotly.newPlot(                        \"07c17b35-9111-4fda-8b0d-28d39155eb31\",                        [{\"customdata\":[[0.2],[0.2],[0.2],[0.2],[0.2],[0.4],[0.3],[0.2],[0.2],[0.1],[0.2],[0.2],[0.1],[0.1],[0.2],[0.4],[0.4],[0.3],[0.3],[0.3],[0.2],[0.4],[0.2],[0.5],[0.2],[0.2],[0.4],[0.2],[0.2],[0.2],[0.2],[0.4],[0.1],[0.2],[0.1],[0.2],[0.2],[0.1],[0.2],[0.2],[0.3],[0.3],[0.2],[0.6],[0.4],[0.3],[0.2],[0.2],[0.2],[0.2]],\"hovertemplate\":\"species=setosa\\u003cbr\\u003esepal_width=%{x}\\u003cbr\\u003esepal_length=%{y}\\u003cbr\\u003epetal_length=%{marker.size}\\u003cbr\\u003epetal_width=%{customdata[0]}\\u003cextra\\u003e\\u003c\\u002fextra\\u003e\",\"legendgroup\":\"setosa\",\"marker\":{\"color\":\"#636efa\",\"size\":[1.4,1.4,1.3,1.5,1.4,1.7,1.4,1.5,1.4,1.5,1.5,1.6,1.4,1.1,1.2,1.5,1.3,1.4,1.7,1.5,1.7,1.5,1.0,1.7,1.9,1.6,1.6,1.5,1.4,1.6,1.6,1.5,1.5,1.4,1.5,1.2,1.3,1.5,1.3,1.5,1.3,1.3,1.3,1.6,1.9,1.4,1.6,1.4,1.5,1.4],\"sizemode\":\"area\",\"sizeref\":0.01725,\"symbol\":\"circle\"},\"mode\":\"markers\",\"name\":\"setosa\",\"orientation\":\"v\",\"showlegend\":true,\"x\":[3.5,3.0,3.2,3.1,3.6,3.9,3.4,3.4,2.9,3.1,3.7,3.4,3.0,3.0,4.0,4.4,3.9,3.5,3.8,3.8,3.4,3.7,3.6,3.3,3.4,3.0,3.4,3.5,3.4,3.2,3.1,3.4,4.1,4.2,3.1,3.2,3.5,3.1,3.0,3.4,3.5,2.3,3.2,3.5,3.8,3.0,3.8,3.2,3.7,3.3],\"xaxis\":\"x\",\"y\":[5.1,4.9,4.7,4.6,5.0,5.4,4.6,5.0,4.4,4.9,5.4,4.8,4.8,4.3,5.8,5.7,5.4,5.1,5.7,5.1,5.4,5.1,4.6,5.1,4.8,5.0,5.0,5.2,5.2,4.7,4.8,5.4,5.2,5.5,4.9,5.0,5.5,4.9,4.4,5.1,5.0,4.5,4.4,5.0,5.1,4.8,5.1,4.6,5.3,5.0],\"yaxis\":\"y\",\"type\":\"scatter\"},{\"customdata\":[[1.4],[1.5],[1.5],[1.3],[1.5],[1.3],[1.6],[1.0],[1.3],[1.4],[1.0],[1.5],[1.0],[1.4],[1.3],[1.4],[1.5],[1.0],[1.5],[1.1],[1.8],[1.3],[1.5],[1.2],[1.3],[1.4],[1.4],[1.7],[1.5],[1.0],[1.1],[1.0],[1.2],[1.6],[1.5],[1.6],[1.5],[1.3],[1.3],[1.3],[1.2],[1.4],[1.2],[1.0],[1.3],[1.2],[1.3],[1.3],[1.1],[1.3]],\"hovertemplate\":\"species=versicolor\\u003cbr\\u003esepal_width=%{x}\\u003cbr\\u003esepal_length=%{y}\\u003cbr\\u003epetal_length=%{marker.size}\\u003cbr\\u003epetal_width=%{customdata[0]}\\u003cextra\\u003e\\u003c\\u002fextra\\u003e\",\"legendgroup\":\"versicolor\",\"marker\":{\"color\":\"#EF553B\",\"size\":[4.7,4.5,4.9,4.0,4.6,4.5,4.7,3.3,4.6,3.9,3.5,4.2,4.0,4.7,3.6,4.4,4.5,4.1,4.5,3.9,4.8,4.0,4.9,4.7,4.3,4.4,4.8,5.0,4.5,3.5,3.8,3.7,3.9,5.1,4.5,4.5,4.7,4.4,4.1,4.0,4.4,4.6,4.0,3.3,4.2,4.2,4.2,4.3,3.0,4.1],\"sizemode\":\"area\",\"sizeref\":0.01725,\"symbol\":\"circle\"},\"mode\":\"markers\",\"name\":\"versicolor\",\"orientation\":\"v\",\"showlegend\":true,\"x\":[3.2,3.2,3.1,2.3,2.8,2.8,3.3,2.4,2.9,2.7,2.0,3.0,2.2,2.9,2.9,3.1,3.0,2.7,2.2,2.5,3.2,2.8,2.5,2.8,2.9,3.0,2.8,3.0,2.9,2.6,2.4,2.4,2.7,2.7,3.0,3.4,3.1,2.3,3.0,2.5,2.6,3.0,2.6,2.3,2.7,3.0,2.9,2.9,2.5,2.8],\"xaxis\":\"x\",\"y\":[7.0,6.4,6.9,5.5,6.5,5.7,6.3,4.9,6.6,5.2,5.0,5.9,6.0,6.1,5.6,6.7,5.6,5.8,6.2,5.6,5.9,6.1,6.3,6.1,6.4,6.6,6.8,6.7,6.0,5.7,5.5,5.5,5.8,6.0,5.4,6.0,6.7,6.3,5.6,5.5,5.5,6.1,5.8,5.0,5.6,5.7,5.7,6.2,5.1,5.7],\"yaxis\":\"y\",\"type\":\"scatter\"},{\"customdata\":[[2.5],[1.9],[2.1],[1.8],[2.2],[2.1],[1.7],[1.8],[1.8],[2.5],[2.0],[1.9],[2.1],[2.0],[2.4],[2.3],[1.8],[2.2],[2.3],[1.5],[2.3],[2.0],[2.0],[1.8],[2.1],[1.8],[1.8],[1.8],[2.1],[1.6],[1.9],[2.0],[2.2],[1.5],[1.4],[2.3],[2.4],[1.8],[1.8],[2.1],[2.4],[2.3],[1.9],[2.3],[2.5],[2.3],[1.9],[2.0],[2.3],[1.8]],\"hovertemplate\":\"species=virginica\\u003cbr\\u003esepal_width=%{x}\\u003cbr\\u003esepal_length=%{y}\\u003cbr\\u003epetal_length=%{marker.size}\\u003cbr\\u003epetal_width=%{customdata[0]}\\u003cextra\\u003e\\u003c\\u002fextra\\u003e\",\"legendgroup\":\"virginica\",\"marker\":{\"color\":\"#00cc96\",\"size\":[6.0,5.1,5.9,5.6,5.8,6.6,4.5,6.3,5.8,6.1,5.1,5.3,5.5,5.0,5.1,5.3,5.5,6.7,6.9,5.0,5.7,4.9,6.7,4.9,5.7,6.0,4.8,4.9,5.6,5.8,6.1,6.4,5.6,5.1,5.6,6.1,5.6,5.5,4.8,5.4,5.6,5.1,5.1,5.9,5.7,5.2,5.0,5.2,5.4,5.1],\"sizemode\":\"area\",\"sizeref\":0.01725,\"symbol\":\"circle\"},\"mode\":\"markers\",\"name\":\"virginica\",\"orientation\":\"v\",\"showlegend\":true,\"x\":[3.3,2.7,3.0,2.9,3.0,3.0,2.5,2.9,2.5,3.6,3.2,2.7,3.0,2.5,2.8,3.2,3.0,3.8,2.6,2.2,3.2,2.8,2.8,2.7,3.3,3.2,2.8,3.0,2.8,3.0,2.8,3.8,2.8,2.8,2.6,3.0,3.4,3.1,3.0,3.1,3.1,3.1,2.7,3.2,3.3,3.0,2.5,3.0,3.4,3.0],\"xaxis\":\"x\",\"y\":[6.3,5.8,7.1,6.3,6.5,7.6,4.9,7.3,6.7,7.2,6.5,6.4,6.8,5.7,5.8,6.4,6.5,7.7,7.7,6.0,6.9,5.6,7.7,6.3,6.7,7.2,6.2,6.1,6.4,7.2,7.4,7.9,6.4,6.3,6.1,7.7,6.3,6.4,6.0,6.9,6.7,6.9,5.8,6.8,6.7,6.7,6.3,6.5,6.2,5.9],\"yaxis\":\"y\",\"type\":\"scatter\"}],                        {\"template\":{\"data\":{\"histogram2dcontour\":[{\"type\":\"histogram2dcontour\",\"colorbar\":{\"outlinewidth\":0,\"ticks\":\"\"},\"colorscale\":[[0.0,\"#0d0887\"],[0.1111111111111111,\"#46039f\"],[0.2222222222222222,\"#7201a8\"],[0.3333333333333333,\"#9c179e\"],[0.4444444444444444,\"#bd3786\"],[0.5555555555555556,\"#d8576b\"],[0.6666666666666666,\"#ed7953\"],[0.7777777777777778,\"#fb9f3a\"],[0.8888888888888888,\"#fdca26\"],[1.0,\"#f0f921\"]]}],\"choropleth\":[{\"type\":\"choropleth\",\"colorbar\":{\"outlinewidth\":0,\"ticks\":\"\"}}],\"histogram2d\":[{\"type\":\"histogram2d\",\"colorbar\":{\"outlinewidth\":0,\"ticks\":\"\"},\"colorscale\":[[0.0,\"#0d0887\"],[0.1111111111111111,\"#46039f\"],[0.2222222222222222,\"#7201a8\"],[0.3333333333333333,\"#9c179e\"],[0.4444444444444444,\"#bd3786\"],[0.5555555555555556,\"#d8576b\"],[0.6666666666666666,\"#ed7953\"],[0.7777777777777778,\"#fb9f3a\"],[0.8888888888888888,\"#fdca26\"],[1.0,\"#f0f921\"]]}],\"heatmap\":[{\"type\":\"heatmap\",\"colorbar\":{\"outlinewidth\":0,\"ticks\":\"\"},\"colorscale\":[[0.0,\"#0d0887\"],[0.1111111111111111,\"#46039f\"],[0.2222222222222222,\"#7201a8\"],[0.3333333333333333,\"#9c179e\"],[0.4444444444444444,\"#bd3786\"],[0.5555555555555556,\"#d8576b\"],[0.6666666666666666,\"#ed7953\"],[0.7777777777777778,\"#fb9f3a\"],[0.8888888888888888,\"#fdca26\"],[1.0,\"#f0f921\"]]}],\"heatmapgl\":[{\"type\":\"heatmapgl\",\"colorbar\":{\"outlinewidth\":0,\"ticks\":\"\"},\"colorscale\":[[0.0,\"#0d0887\"],[0.1111111111111111,\"#46039f\"],[0.2222222222222222,\"#7201a8\"],[0.3333333333333333,\"#9c179e\"],[0.4444444444444444,\"#bd3786\"],[0.5555555555555556,\"#d8576b\"],[0.6666666666666666,\"#ed7953\"],[0.7777777777777778,\"#fb9f3a\"],[0.8888888888888888,\"#fdca26\"],[1.0,\"#f0f921\"]]}],\"contourcarpet\":[{\"type\":\"contourcarpet\",\"colorbar\":{\"outlinewidth\":0,\"ticks\":\"\"}}],\"contour\":[{\"type\":\"contour\",\"colorbar\":{\"outlinewidth\":0,\"ticks\":\"\"},\"colorscale\":[[0.0,\"#0d0887\"],[0.1111111111111111,\"#46039f\"],[0.2222222222222222,\"#7201a8\"],[0.3333333333333333,\"#9c179e\"],[0.4444444444444444,\"#bd3786\"],[0.5555555555555556,\"#d8576b\"],[0.6666666666666666,\"#ed7953\"],[0.7777777777777778,\"#fb9f3a\"],[0.8888888888888888,\"#fdca26\"],[1.0,\"#f0f921\"]]}],\"surface\":[{\"type\":\"surface\",\"colorbar\":{\"outlinewidth\":0,\"ticks\":\"\"},\"colorscale\":[[0.0,\"#0d0887\"],[0.1111111111111111,\"#46039f\"],[0.2222222222222222,\"#7201a8\"],[0.3333333333333333,\"#9c179e\"],[0.4444444444444444,\"#bd3786\"],[0.5555555555555556,\"#d8576b\"],[0.6666666666666666,\"#ed7953\"],[0.7777777777777778,\"#fb9f3a\"],[0.8888888888888888,\"#fdca26\"],[1.0,\"#f0f921\"]]}],\"mesh3d\":[{\"type\":\"mesh3d\",\"colorbar\":{\"outlinewidth\":0,\"ticks\":\"\"}}],\"scatter\":[{\"fillpattern\":{\"fillmode\":\"overlay\",\"size\":10,\"solidity\":0.2},\"type\":\"scatter\"}],\"parcoords\":[{\"type\":\"parcoords\",\"line\":{\"colorbar\":{\"outlinewidth\":0,\"ticks\":\"\"}}}],\"scatterpolargl\":[{\"type\":\"scatterpolargl\",\"marker\":{\"colorbar\":{\"outlinewidth\":0,\"ticks\":\"\"}}}],\"bar\":[{\"error_x\":{\"color\":\"#2a3f5f\"},\"error_y\":{\"color\":\"#2a3f5f\"},\"marker\":{\"line\":{\"color\":\"#E5ECF6\",\"width\":0.5},\"pattern\":{\"fillmode\":\"overlay\",\"size\":10,\"solidity\":0.2}},\"type\":\"bar\"}],\"scattergeo\":[{\"type\":\"scattergeo\",\"marker\":{\"colorbar\":{\"outlinewidth\":0,\"ticks\":\"\"}}}],\"scatterpolar\":[{\"type\":\"scatterpolar\",\"marker\":{\"colorbar\":{\"outlinewidth\":0,\"ticks\":\"\"}}}],\"histogram\":[{\"marker\":{\"pattern\":{\"fillmode\":\"overlay\",\"size\":10,\"solidity\":0.2}},\"type\":\"histogram\"}],\"scattergl\":[{\"type\":\"scattergl\",\"marker\":{\"colorbar\":{\"outlinewidth\":0,\"ticks\":\"\"}}}],\"scatter3d\":[{\"type\":\"scatter3d\",\"line\":{\"colorbar\":{\"outlinewidth\":0,\"ticks\":\"\"}},\"marker\":{\"colorbar\":{\"outlinewidth\":0,\"ticks\":\"\"}}}],\"scattermapbox\":[{\"type\":\"scattermapbox\",\"marker\":{\"colorbar\":{\"outlinewidth\":0,\"ticks\":\"\"}}}],\"scatterternary\":[{\"type\":\"scatterternary\",\"marker\":{\"colorbar\":{\"outlinewidth\":0,\"ticks\":\"\"}}}],\"scattercarpet\":[{\"type\":\"scattercarpet\",\"marker\":{\"colorbar\":{\"outlinewidth\":0,\"ticks\":\"\"}}}],\"carpet\":[{\"aaxis\":{\"endlinecolor\":\"#2a3f5f\",\"gridcolor\":\"white\",\"linecolor\":\"white\",\"minorgridcolor\":\"white\",\"startlinecolor\":\"#2a3f5f\"},\"baxis\":{\"endlinecolor\":\"#2a3f5f\",\"gridcolor\":\"white\",\"linecolor\":\"white\",\"minorgridcolor\":\"white\",\"startlinecolor\":\"#2a3f5f\"},\"type\":\"carpet\"}],\"table\":[{\"cells\":{\"fill\":{\"color\":\"#EBF0F8\"},\"line\":{\"color\":\"white\"}},\"header\":{\"fill\":{\"color\":\"#C8D4E3\"},\"line\":{\"color\":\"white\"}},\"type\":\"table\"}],\"barpolar\":[{\"marker\":{\"line\":{\"color\":\"#E5ECF6\",\"width\":0.5},\"pattern\":{\"fillmode\":\"overlay\",\"size\":10,\"solidity\":0.2}},\"type\":\"barpolar\"}],\"pie\":[{\"automargin\":true,\"type\":\"pie\"}]},\"layout\":{\"autotypenumbers\":\"strict\",\"colorway\":[\"#636efa\",\"#EF553B\",\"#00cc96\",\"#ab63fa\",\"#FFA15A\",\"#19d3f3\",\"#FF6692\",\"#B6E880\",\"#FF97FF\",\"#FECB52\"],\"font\":{\"color\":\"#2a3f5f\"},\"hovermode\":\"closest\",\"hoverlabel\":{\"align\":\"left\"},\"paper_bgcolor\":\"white\",\"plot_bgcolor\":\"#E5ECF6\",\"polar\":{\"bgcolor\":\"#E5ECF6\",\"angularaxis\":{\"gridcolor\":\"white\",\"linecolor\":\"white\",\"ticks\":\"\"},\"radialaxis\":{\"gridcolor\":\"white\",\"linecolor\":\"white\",\"ticks\":\"\"}},\"ternary\":{\"bgcolor\":\"#E5ECF6\",\"aaxis\":{\"gridcolor\":\"white\",\"linecolor\":\"white\",\"ticks\":\"\"},\"baxis\":{\"gridcolor\":\"white\",\"linecolor\":\"white\",\"ticks\":\"\"},\"caxis\":{\"gridcolor\":\"white\",\"linecolor\":\"white\",\"ticks\":\"\"}},\"coloraxis\":{\"colorbar\":{\"outlinewidth\":0,\"ticks\":\"\"}},\"colorscale\":{\"sequential\":[[0.0,\"#0d0887\"],[0.1111111111111111,\"#46039f\"],[0.2222222222222222,\"#7201a8\"],[0.3333333333333333,\"#9c179e\"],[0.4444444444444444,\"#bd3786\"],[0.5555555555555556,\"#d8576b\"],[0.6666666666666666,\"#ed7953\"],[0.7777777777777778,\"#fb9f3a\"],[0.8888888888888888,\"#fdca26\"],[1.0,\"#f0f921\"]],\"sequentialminus\":[[0.0,\"#0d0887\"],[0.1111111111111111,\"#46039f\"],[0.2222222222222222,\"#7201a8\"],[0.3333333333333333,\"#9c179e\"],[0.4444444444444444,\"#bd3786\"],[0.5555555555555556,\"#d8576b\"],[0.6666666666666666,\"#ed7953\"],[0.7777777777777778,\"#fb9f3a\"],[0.8888888888888888,\"#fdca26\"],[1.0,\"#f0f921\"]],\"diverging\":[[0,\"#8e0152\"],[0.1,\"#c51b7d\"],[0.2,\"#de77ae\"],[0.3,\"#f1b6da\"],[0.4,\"#fde0ef\"],[0.5,\"#f7f7f7\"],[0.6,\"#e6f5d0\"],[0.7,\"#b8e186\"],[0.8,\"#7fbc41\"],[0.9,\"#4d9221\"],[1,\"#276419\"]]},\"xaxis\":{\"gridcolor\":\"white\",\"linecolor\":\"white\",\"ticks\":\"\",\"title\":{\"standoff\":15},\"zerolinecolor\":\"white\",\"automargin\":true,\"zerolinewidth\":2},\"yaxis\":{\"gridcolor\":\"white\",\"linecolor\":\"white\",\"ticks\":\"\",\"title\":{\"standoff\":15},\"zerolinecolor\":\"white\",\"automargin\":true,\"zerolinewidth\":2},\"scene\":{\"xaxis\":{\"backgroundcolor\":\"#E5ECF6\",\"gridcolor\":\"white\",\"linecolor\":\"white\",\"showbackground\":true,\"ticks\":\"\",\"zerolinecolor\":\"white\",\"gridwidth\":2},\"yaxis\":{\"backgroundcolor\":\"#E5ECF6\",\"gridcolor\":\"white\",\"linecolor\":\"white\",\"showbackground\":true,\"ticks\":\"\",\"zerolinecolor\":\"white\",\"gridwidth\":2},\"zaxis\":{\"backgroundcolor\":\"#E5ECF6\",\"gridcolor\":\"white\",\"linecolor\":\"white\",\"showbackground\":true,\"ticks\":\"\",\"zerolinecolor\":\"white\",\"gridwidth\":2}},\"shapedefaults\":{\"line\":{\"color\":\"#2a3f5f\"}},\"annotationdefaults\":{\"arrowcolor\":\"#2a3f5f\",\"arrowhead\":0,\"arrowwidth\":1},\"geo\":{\"bgcolor\":\"white\",\"landcolor\":\"#E5ECF6\",\"subunitcolor\":\"white\",\"showland\":true,\"showlakes\":true,\"lakecolor\":\"white\"},\"title\":{\"x\":0.05},\"mapbox\":{\"style\":\"light\"}}},\"xaxis\":{\"anchor\":\"y\",\"domain\":[0.0,1.0],\"title\":{\"text\":\"Ancho do s\\u00e9palo\"}},\"yaxis\":{\"anchor\":\"x\",\"domain\":[0.0,1.0],\"title\":{\"text\":\"Largo do s\\u00e9palo\"}},\"legend\":{\"title\":{\"text\":\"species\"},\"tracegroupgap\":0,\"itemsizing\":\"constant\"},\"margin\":{\"t\":60},\"title\":{\"text\":\"Iris Dataset: Ancho do s\\u00e9palo vs. Largo do s\\u00e9palo\"}},                        {\"responsive\": true}                    ).then(function(){\n",
              "                            \n",
              "var gd = document.getElementById('07c17b35-9111-4fda-8b0d-28d39155eb31');\n",
              "var x = new MutationObserver(function (mutations, observer) {{\n",
              "        var display = window.getComputedStyle(gd).display;\n",
              "        if (!display || display === 'none') {{\n",
              "            console.log([gd, 'removed!']);\n",
              "            Plotly.purge(gd);\n",
              "            observer.disconnect();\n",
              "        }}\n",
              "}});\n",
              "\n",
              "// Listen for the removal of the full notebook cells\n",
              "var notebookContainer = gd.closest('#notebook-container');\n",
              "if (notebookContainer) {{\n",
              "    x.observe(notebookContainer, {childList: true});\n",
              "}}\n",
              "\n",
              "// Listen for the clearing of the current output cell\n",
              "var outputEl = gd.closest('.output');\n",
              "if (outputEl) {{\n",
              "    x.observe(outputEl, {childList: true});\n",
              "}}\n",
              "\n",
              "                        })                };                            </script>        </div>\n",
              "</body>\n",
              "</html>"
            ]
          },
          "metadata": {}
        }
      ]
    },
    {
      "cell_type": "markdown",
      "source": [
        "# O concepto de Axente\n",
        "\n",
        "Os axentes son esencialmente código. Impulsados por Modelos de Linguaxe de Gran Tamaño (LLMs), son capaces de tomar decisións baseándose nun rol específico e concreto, no contexto no que se insiren, en funcións e ferramentas adicionais...\n",
        "\n",
        "Por exemplo, podemos ter un axente que resuma textos, outro que convirta divisas, un axente de tradución, un experto en formulación química, outro experto en C++ ou mesmo un dedicado á redacción xurídica.\n",
        "\n",
        "A idea principal é que, unha vez identificadas correctamente as distintas partes dunha tarefa, podemos deseñar axentes especializados en cada unha destas partes para completar a tarefa de maneira automática.\n",
        "\n",
        "\n",
        "Adicionalmente, é importante notar que os axentes poden ser tanto robóticos (físicos) como virtuais. Isto significa que a nosa tecnoloxía non só se aplica no mundo dixital senón que tamén pode ter aplicacións no mundo físico, extendendo así o alcance e potencial dos axentes intelixentes.\n",
        "\n",
        "Este enfoque permítenos abordar tarefas complexas de maneira eficiente, dividíndoas en subtarefas máis xestionables que poden ser resoltas por axentes especializados. Deste xeito, podemos automatizar procesos que tradicionalmente requerían unha considerable cantidade de traballo manual e coñecemento específico."
      ],
      "metadata": {
        "id": "e8PR27b1yPnJ"
      }
    },
    {
      "cell_type": "markdown",
      "source": [
        "## Configuración inicial de AutoGen"
      ],
      "metadata": {
        "id": "2ZXlzHUCv50w"
      }
    },
    {
      "cell_type": "code",
      "execution_count": null,
      "metadata": {
        "id": "cMGdfDKdZsv-"
      },
      "outputs": [],
      "source": [
        "!pip install -qq pyautogen"
      ]
    },
    {
      "cell_type": "code",
      "source": [
        "import autogen\n",
        "from typing import List, Dict\n",
        "from google.colab import userdata\n",
        "\n",
        "def is_termination_msg(content) -> bool:\n",
        "    have_content = content.get(\"content\", None) is not None\n",
        "    if have_content and \"TERMINATE\" in content[\"content\"]:\n",
        "        return True\n",
        "    return False\n",
        "\n",
        "oai_apikey = userdata.get('OPENAI_API_KEY')\n",
        "\n",
        "config_list = [{'model': 'gpt-4-0125-preview','api_key': oai_apikey}]\n",
        "\n",
        "clean_config = {\n",
        "    \"temperature\": 0,\n",
        "    \"config_list\": config_list,\n",
        "}"
      ],
      "metadata": {
        "id": "tFzkWPeVaFzi"
      },
      "execution_count": 7,
      "outputs": []
    },
    {
      "cell_type": "markdown",
      "source": [
        "## Configuración dos axentes"
      ],
      "metadata": {
        "id": "BTUyivChvYfT"
      }
    },
    {
      "cell_type": "code",
      "source": [
        "writer_message= \"\"\"You are a master of crafting science fiction micro-stories. Use the provided list of words to weave a captivating short micro-story. Your narrative should be concise, limited to one paragraph.\n",
        "Please focus solely on the creative task; your story will subsequently be handed over to a translation specialist.\"\"\"\n",
        "\n",
        "# writer configuration\n",
        "writer = autogen.AssistantAgent(\n",
        "    name=\"writer\",\n",
        "    system_message=writer_message,\n",
        "    llm_config=clean_config,\n",
        "    human_input_mode='NEVER',\n",
        "    code_execution_config=False,\n",
        "    description=\"This agent creates micro-stories given a list of several words\",\n",
        ")\n",
        "\n",
        "translator_message= \"\"\"You are an English-Galician translator of science fiction micro-stories. For each micro-story you receive, you will provide its translation into Galician. Pay attention to all details and act as a professional translator.\"\"\"\n",
        "\n",
        "# translator configuration\n",
        "translator = autogen.AssistantAgent(\n",
        "    name=\"translator\",\n",
        "    system_message=translator_message,\n",
        "    llm_config=clean_config,\n",
        "    human_input_mode='NEVER',\n",
        "    code_execution_config=False,\n",
        "    description=\"This agent translates micro-stories from English to Galician\",\n",
        ")\n",
        "\n",
        "user = autogen.UserProxyAgent(\n",
        "    name='user',\n",
        "    code_execution_config={\"work_dir\": \"coding\"},\n",
        "    is_termination_msg=is_termination_msg,\n",
        "    human_input_mode='TERMINATE',\n",
        "    llm_config=clean_config,\n",
        "    max_consecutive_auto_reply=20,\n",
        "    system_message=\"You are the User Proxy. Reply 'TERMINATE' once the task is done.\",\n",
        ")\n",
        "\n",
        "groupchat = autogen.GroupChat(agents=[user, writer, translator], messages=[], max_round=3)\n",
        "\n",
        "manager = autogen.GroupChatManager(groupchat=groupchat, llm_config=clean_config)"
      ],
      "metadata": {
        "id": "VhZNfYfAaeR1"
      },
      "execution_count": 8,
      "outputs": []
    },
    {
      "cell_type": "markdown",
      "source": [
        "## Inicio da conversa: user_proxy -- manager"
      ],
      "metadata": {
        "id": "683an5KAvfGs"
      }
    },
    {
      "cell_type": "code",
      "source": [
        "message = \"We need a micro story with the words: Ferrol, Sea, Artificial Intelligence, CIFP Rodolfo Ucha. The final result will be the translated micro-story.\"\n",
        "\n",
        "user.initiate_chat(manager, message=message)"
      ],
      "metadata": {
        "id": "8SiVXt5Hm1Ap",
        "colab": {
          "base_uri": "https://localhost:8080/"
        },
        "outputId": "d0f2ee78-4732-47e4-ac5b-70b803f1b108"
      },
      "execution_count": 9,
      "outputs": [
        {
          "output_type": "stream",
          "name": "stdout",
          "text": [
            "user (to chat_manager):\n",
            "\n",
            "We need a micro story with the words: Ferrol, Sea, Artificial Intelligence, CIFP Rodolfo Ucha. The final result will be the translated micro-story.\n",
            "\n",
            "--------------------------------------------------------------------------------\n",
            "writer (to chat_manager):\n",
            "\n",
            "In the year 2045, the coastal town of Ferrol had become a beacon of innovation, thanks to the CIFP Rodolfo Ucha, a pioneering institute in artificial intelligence. Here, a groundbreaking project was underway: the creation of an AI designed to protect and preserve the sea. This AI, named Oceana, was unlike any other; it had the ability to monitor pollution levels, regulate fishing activities, and even repair damaged marine ecosystems. Deployed in the waters off Ferrol, Oceana worked tirelessly, its sensors and drones becoming a common sight among the waves. The sea, once threatened by human negligence, began to thrive again. Oceana's success was a testament to the potential of artificial intelligence as a force for good, turning Ferrol into a symbol of hope for the future of our planet's oceans.\n",
            "\n",
            "--------------------------------------------------------------------------------\n",
            "translator (to chat_manager):\n",
            "\n",
            "No ano 2045, a vila costeira de Ferrol converterase nun faro de innovación, grazas ao CIFP Rodolfo Ucha, un instituto pioneiro en intelixencia artificial. Aquí estaba en marcha un proxecto revolucionario: a creación dunha IA deseñada para protexer e preservar o mar. Esta IA, chamada Oceana, era diferente a calquera outra; tiña a capacidade de monitorizar os niveis de contaminación, regular as actividades pesqueiras e incluso reparar ecosistemas mariños danados. Despregada nas augas fronte a Ferrol, Oceana traballaba incansablemente, os seus sensores e drons convertéronse nunha vista común entre as ondas. O mar, unha vez ameazado pola neglixencia humana, comezou a prosperar de novo. O éxito de Oceana foi un testemuño do potencial da intelixencia artificial como unha forza para o ben, convertendo a Ferrol nun símbolo de esperanza para o futuro dos océanos do noso planeta.\n",
            "\n",
            "--------------------------------------------------------------------------------\n"
          ]
        },
        {
          "output_type": "execute_result",
          "data": {
            "text/plain": [
              "ChatResult(chat_id=None, chat_history=[{'content': 'We need a micro story with the words: Ferrol, Sea, Artificial Intelligence, CIFP Rodolfo Ucha. The final result will be the translated micro-story.', 'role': 'assistant'}, {'content': \"In the year 2045, the coastal town of Ferrol had become a beacon of innovation, thanks to the CIFP Rodolfo Ucha, a pioneering institute in artificial intelligence. Here, a groundbreaking project was underway: the creation of an AI designed to protect and preserve the sea. This AI, named Oceana, was unlike any other; it had the ability to monitor pollution levels, regulate fishing activities, and even repair damaged marine ecosystems. Deployed in the waters off Ferrol, Oceana worked tirelessly, its sensors and drones becoming a common sight among the waves. The sea, once threatened by human negligence, began to thrive again. Oceana's success was a testament to the potential of artificial intelligence as a force for good, turning Ferrol into a symbol of hope for the future of our planet's oceans.\", 'name': 'writer', 'role': 'user'}, {'content': 'No ano 2045, a vila costeira de Ferrol converterase nun faro de innovación, grazas ao CIFP Rodolfo Ucha, un instituto pioneiro en intelixencia artificial. Aquí estaba en marcha un proxecto revolucionario: a creación dunha IA deseñada para protexer e preservar o mar. Esta IA, chamada Oceana, era diferente a calquera outra; tiña a capacidade de monitorizar os niveis de contaminación, regular as actividades pesqueiras e incluso reparar ecosistemas mariños danados. Despregada nas augas fronte a Ferrol, Oceana traballaba incansablemente, os seus sensores e drons convertéronse nunha vista común entre as ondas. O mar, unha vez ameazado pola neglixencia humana, comezou a prosperar de novo. O éxito de Oceana foi un testemuño do potencial da intelixencia artificial como unha forza para o ben, convertendo a Ferrol nun símbolo de esperanza para o futuro dos océanos do noso planeta.', 'name': 'translator', 'role': 'user'}], summary='No ano 2045, a vila costeira de Ferrol converterase nun faro de innovación, grazas ao CIFP Rodolfo Ucha, un instituto pioneiro en intelixencia artificial. Aquí estaba en marcha un proxecto revolucionario: a creación dunha IA deseñada para protexer e preservar o mar. Esta IA, chamada Oceana, era diferente a calquera outra; tiña a capacidade de monitorizar os niveis de contaminación, regular as actividades pesqueiras e incluso reparar ecosistemas mariños danados. Despregada nas augas fronte a Ferrol, Oceana traballaba incansablemente, os seus sensores e drons convertéronse nunha vista común entre as ondas. O mar, unha vez ameazado pola neglixencia humana, comezou a prosperar de novo. O éxito de Oceana foi un testemuño do potencial da intelixencia artificial como unha forza para o ben, convertendo a Ferrol nun símbolo de esperanza para o futuro dos océanos do noso planeta.', cost=({'total_cost': 0.00532, 'gpt-4-0125-preview': {'cost': 0.00532, 'prompt_tokens': 526, 'completion_tokens': 2, 'total_tokens': 528}}, {'total_cost': 0.00532, 'gpt-4-0125-preview': {'cost': 0.00532, 'prompt_tokens': 526, 'completion_tokens': 2, 'total_tokens': 528}}), human_input=[])"
            ]
          },
          "metadata": {},
          "execution_count": 9
        }
      ]
    },
    {
      "cell_type": "markdown",
      "source": [
        "## Microconto traducido"
      ],
      "metadata": {
        "id": "mjy0WyOSvvj7"
      }
    },
    {
      "cell_type": "code",
      "source": [
        "from IPython.display import display, Markdown\n",
        "\n",
        "microstory = translator.last_message(manager)[\"content\"]\n",
        "\n",
        "display(Markdown(microstory))"
      ],
      "metadata": {
        "id": "BDxrMSMxoMi5",
        "colab": {
          "base_uri": "https://localhost:8080/",
          "height": 133
        },
        "outputId": "528b0451-0a0e-4281-ea8d-67b0798f4c3e"
      },
      "execution_count": 10,
      "outputs": [
        {
          "output_type": "display_data",
          "data": {
            "text/plain": [
              "<IPython.core.display.Markdown object>"
            ],
            "text/markdown": "No ano 2045, a vila costeira de Ferrol converterase nun faro de innovación, grazas ao CIFP Rodolfo Ucha, un instituto pioneiro en intelixencia artificial. Aquí estaba en marcha un proxecto revolucionario: a creación dunha IA deseñada para protexer e preservar o mar. Esta IA, chamada Oceana, era diferente a calquera outra; tiña a capacidade de monitorizar os niveis de contaminación, regular as actividades pesqueiras e incluso reparar ecosistemas mariños danados. Despregada nas augas fronte a Ferrol, Oceana traballaba incansablemente, os seus sensores e drons convertéronse nunha vista común entre as ondas. O mar, unha vez ameazado pola neglixencia humana, comezou a prosperar de novo. O éxito de Oceana foi un testemuño do potencial da intelixencia artificial como unha forza para o ben, convertendo a Ferrol nun símbolo de esperanza para o futuro dos océanos do noso planeta."
          },
          "metadata": {}
        }
      ]
    },
    {
      "cell_type": "markdown",
      "source": [
        "## Definición dunha función"
      ],
      "metadata": {
        "id": "2U7pMNl5wHo_"
      }
    },
    {
      "cell_type": "code",
      "source": [
        "from random import randint, shuffle\n",
        "\n",
        "def create_word_search(uppercase_words):\n",
        "    \"\"\" Create a word search puzzle with the given capitalized words, and return as a formatted string. \"\"\"\n",
        "    grid_size=15\n",
        "    grid = [[' ' for _ in range(grid_size)] for _ in range(grid_size)]\n",
        "    orientations = ['leftright', 'updown', 'diagonalup', 'diagonaldown']\n",
        "\n",
        "    for word in uppercase_words:\n",
        "        word_length = len(word)\n",
        "        placed = False\n",
        "        while not placed:\n",
        "            orientation = orientations[randint(0, len(orientations) - 1)]\n",
        "            if orientation == 'leftright':\n",
        "                step_i, step_j = 0, 1\n",
        "            elif orientation == 'updown':\n",
        "                step_i, step_j = 1, 0\n",
        "            elif orientation == 'diagonalup':\n",
        "                step_i, step_j = -1, 1\n",
        "            elif orientation == 'diagonaldown':\n",
        "                step_i, step_j = 1, 1\n",
        "\n",
        "            position_i = randint(0, grid_size - 1)\n",
        "            position_j = randint(0, grid_size - 1)\n",
        "\n",
        "            ending_i = position_i + step_i * word_length\n",
        "            ending_j = position_j + step_j * word_length\n",
        "\n",
        "            if ending_i < 0 or ending_i >= grid_size: continue\n",
        "            if ending_j < 0 or ending_j >= grid_size: continue\n",
        "\n",
        "            failed = False\n",
        "            for i in range(word_length):\n",
        "                character = word[i]\n",
        "                new_position_i = position_i + i * step_i\n",
        "                new_position_j = position_j + i * step_j\n",
        "\n",
        "                if grid[new_position_i][new_position_j] not in (' ', character):\n",
        "                    failed = True\n",
        "                    break\n",
        "\n",
        "            if failed:\n",
        "                continue\n",
        "\n",
        "            for i in range(word_length):\n",
        "                character = word[i]\n",
        "                new_position_i = position_i + i * step_i\n",
        "                new_position_j = position_j + i * step_j\n",
        "                grid[new_position_i][new_position_j] = character\n",
        "\n",
        "            placed = True\n",
        "\n",
        "    # Fill the remaining spaces with random letters\n",
        "    for i in range(grid_size):\n",
        "        for j in range(grid_size):\n",
        "            if grid[i][j] == ' ':\n",
        "                grid[i][j] = chr(randint(65, 90))  # ASCII values for A-Z\n",
        "\n",
        "    # Convert the grid to a string representation\n",
        "    return \"\\n\".join([\" \".join(row) for row in grid])"
      ],
      "metadata": {
        "id": "yKjQaFXiqlIg"
      },
      "execution_count": 11,
      "outputs": []
    },
    {
      "cell_type": "markdown",
      "source": [
        "## Novos axentes para a nova tarefa"
      ],
      "metadata": {
        "id": "0xX5hKCzxK--"
      }
    },
    {
      "cell_type": "code",
      "source": [
        "gamer_config = {\n",
        "    \"temperature\": 0.01,\n",
        "    \"functions\": [\n",
        "        {\n",
        "            \"name\": \"create_word_search\",\n",
        "            \"description\": \"Generate a word search puzzle from a list of capitalized words, returning a formatted string representation of the puzzle grid.\",\n",
        "            \"parameters\": {\n",
        "                \"type\": \"object\",\n",
        "                \"properties\": {\n",
        "                    \"uppercase_words\": {\n",
        "                        \"type\": \"array\",\n",
        "                        \"items\": {\n",
        "                            \"type\": \"string\"\n",
        "                        },\n",
        "                        \"description\": \"A list of capitalized words to be included in the word search puzzle.\",\n",
        "                    }\n",
        "                },\n",
        "                \"required\": [\"uppercase_words\"],\n",
        "            },\n",
        "        }\n",
        "    ],\n",
        "    \"config_list\": config_list,\n",
        "}"
      ],
      "metadata": {
        "id": "NkkOUYIqsoHe"
      },
      "execution_count": 12,
      "outputs": []
    },
    {
      "cell_type": "code",
      "source": [
        "gamer_message= \"\"\"You are a specialist in creating wordsearches given a set of words.\n",
        "You have access to the `create_word_search` function and will present its result clearly. The function is called with a list of words and returns a grid with the generated alphabet soup. Be sure to keep the formatting.\"\"\"\n",
        "\n",
        "# writer configuration\n",
        "gamer = autogen.AssistantAgent(\n",
        "    name=\"gamer\",\n",
        "    system_message=gamer_message,\n",
        "    llm_config=gamer_config,\n",
        "    human_input_mode='NEVER',\n",
        "    code_execution_config=False,\n",
        "    description=\"This agent creates a wordsearch given a list of words.\",\n",
        ")\n",
        "\n",
        "user = autogen.UserProxyAgent(\n",
        "    name='user',\n",
        "    code_execution_config={\"work_dir\": \"coding\"},\n",
        "    is_termination_msg=is_termination_msg,\n",
        "    human_input_mode='NEVER',\n",
        "    llm_config=clean_config,\n",
        "    max_consecutive_auto_reply=1,\n",
        "    system_message=\"You are the User Proxy. Reply 'TERMINATE' once the task is done.\",\n",
        "    function_map = {\"create_word_search\": create_word_search}\n",
        ")\n",
        "\n",
        "user.initiate_chat(recipient=gamer, message=\"We need a wordsearch game with the words: ULTRAMAR, CANIDO, SAN XOAN, CARANZA, PORTANOVA, ESTEIRO, RECIMIL, MAGDALENA\")"
      ],
      "metadata": {
        "id": "FLtMAAM2r0Yv",
        "colab": {
          "base_uri": "https://localhost:8080/"
        },
        "outputId": "9da267fe-c64b-4eed-9141-93094bfb0835"
      },
      "execution_count": 14,
      "outputs": [
        {
          "output_type": "stream",
          "name": "stdout",
          "text": [
            "user (to gamer):\n",
            "\n",
            "We need a wordsearch game with the words: ULTRAMAR, CANIDO, SAN XOAN, CARANZA, PORTANOVA, ESTEIRO, RECIMIL, MAGDALENA\n",
            "\n",
            "--------------------------------------------------------------------------------\n",
            "gamer (to user):\n",
            "\n",
            "***** Suggested function Call: create_word_search *****\n",
            "Arguments: \n",
            "{\"uppercase_words\":[\"ULTRAMAR\",\"CANIDO\",\"SAN XOAN\",\"CARANZA\",\"PORTANOVA\",\"ESTEIRO\",\"RECIMIL\",\"MAGDALENA\"]}\n",
            "*******************************************************\n",
            "\n",
            "--------------------------------------------------------------------------------\n",
            "\n",
            ">>>>>>>> EXECUTING FUNCTION create_word_search...\n",
            "user (to gamer):\n",
            "\n",
            "***** Response from calling function \"create_word_search\" *****\n",
            "E A L R Q L H E Q J Z S Z A S\n",
            "Y Q V G G M A G D A L E N A E\n",
            "U L T R A M A R S L S D D C B\n",
            "P W B Z Q H H F I Q Y Y Y C V\n",
            "O V C X A Q Y M U E W L Y B E\n",
            "R Y N S O X I U C A N I D O L\n",
            "T L D K S C N M D J K W T V X\n",
            "A S A N E X O A N E E G O Q S\n",
            "N L U R N V H K U G U R D E H\n",
            "O P L S J K N A N E S C V G D\n",
            "V L E V Y G E B F B B L K B J\n",
            "A V Y Y A G M P M F Z E J N O\n",
            "A W K H I O T M P I J B G C C\n",
            "P E F P D P Y E S T E I R O P\n",
            "N P S R N B C A R A N Z A D G\n",
            "***************************************************************\n",
            "\n",
            "--------------------------------------------------------------------------------\n",
            "gamer (to user):\n",
            "\n",
            "Here's your wordsearch game with the words: ULTRAMAR, CANIDO, SAN XOAN, CARANZA, PORTANOVA, ESTEIRO, RECIMIL, MAGDALENA.\n",
            "\n",
            "```\n",
            "E A L R Q L H E Q J Z S Z A S\n",
            "Y Q V G G M A G D A L E N A E\n",
            "U L T R A M A R S L S D D C B\n",
            "P W B Z Q H H F I Q Y Y Y C V\n",
            "O V C X A Q Y M U E W L Y B E\n",
            "R Y N S O X I U C A N I D O L\n",
            "T L D K S C N M D J K W T V X\n",
            "A S A N E X O A N E E G O Q S\n",
            "N L U R N V H K U G U R D E H\n",
            "O P L S J K N A N E S C V G D\n",
            "V L E V Y G E B F B B L K B J\n",
            "A V Y Y A G M P M F Z E J N O\n",
            "A W K H I O T M P I J B G C C\n",
            "P E F P D P Y E S T E I R O P\n",
            "N P S R N B C A R A N Z A D G\n",
            "```\n",
            "\n",
            "Enjoy finding the words!\n",
            "\n",
            "--------------------------------------------------------------------------------\n"
          ]
        },
        {
          "output_type": "execute_result",
          "data": {
            "text/plain": [
              "ChatResult(chat_id=None, chat_history=[{'content': 'We need a wordsearch game with the words: ULTRAMAR, CANIDO, SAN XOAN, CARANZA, PORTANOVA, ESTEIRO, RECIMIL, MAGDALENA', 'role': 'assistant'}, {'function_call': {'arguments': '{\"uppercase_words\":[\"ULTRAMAR\",\"CANIDO\",\"SAN XOAN\",\"CARANZA\",\"PORTANOVA\",\"ESTEIRO\",\"RECIMIL\",\"MAGDALENA\"]}', 'name': 'create_word_search'}, 'content': None, 'role': 'assistant'}, {'content': 'E A L R Q L H E Q J Z S Z A S\\nY Q V G G M A G D A L E N A E\\nU L T R A M A R S L S D D C B\\nP W B Z Q H H F I Q Y Y Y C V\\nO V C X A Q Y M U E W L Y B E\\nR Y N S O X I U C A N I D O L\\nT L D K S C N M D J K W T V X\\nA S A N E X O A N E E G O Q S\\nN L U R N V H K U G U R D E H\\nO P L S J K N A N E S C V G D\\nV L E V Y G E B F B B L K B J\\nA V Y Y A G M P M F Z E J N O\\nA W K H I O T M P I J B G C C\\nP E F P D P Y E S T E I R O P\\nN P S R N B C A R A N Z A D G', 'name': 'create_word_search', 'role': 'function'}, {'content': \"Here's your wordsearch game with the words: ULTRAMAR, CANIDO, SAN XOAN, CARANZA, PORTANOVA, ESTEIRO, RECIMIL, MAGDALENA.\\n\\n```\\nE A L R Q L H E Q J Z S Z A S\\nY Q V G G M A G D A L E N A E\\nU L T R A M A R S L S D D C B\\nP W B Z Q H H F I Q Y Y Y C V\\nO V C X A Q Y M U E W L Y B E\\nR Y N S O X I U C A N I D O L\\nT L D K S C N M D J K W T V X\\nA S A N E X O A N E E G O Q S\\nN L U R N V H K U G U R D E H\\nO P L S J K N A N E S C V G D\\nV L E V Y G E B F B B L K B J\\nA V Y Y A G M P M F Z E J N O\\nA W K H I O T M P I J B G C C\\nP E F P D P Y E S T E I R O P\\nN P S R N B C A R A N Z A D G\\n```\\n\\nEnjoy finding the words!\", 'role': 'user'}], summary=\"Here's your wordsearch game with the words: ULTRAMAR, CANIDO, SAN XOAN, CARANZA, PORTANOVA, ESTEIRO, RECIMIL, MAGDALENA.\\n\\n```\\nE A L R Q L H E Q J Z S Z A S\\nY Q V G G M A G D A L E N A E\\nU L T R A M A R S L S D D C B\\nP W B Z Q H H F I Q Y Y Y C V\\nO V C X A Q Y M U E W L Y B E\\nR Y N S O X I U C A N I D O L\\nT L D K S C N M D J K W T V X\\nA S A N E X O A N E E G O Q S\\nN L U R N V H K U G U R D E H\\nO P L S J K N A N E S C V G D\\nV L E V Y G E B F B B L K B J\\nA V Y Y A G M P M F Z E J N O\\nA W K H I O T M P I J B G C C\\nP E F P D P Y E S T E I R O P\\nN P S R N B C A R A N Z A D G\\n```\\n\\nEnjoy finding the words!\", cost=({'total_cost': 0.01677, 'gpt-4-0125-preview': {'cost': 0.01677, 'prompt_tokens': 654, 'completion_tokens': 341, 'total_tokens': 995}}, {'total_cost': 0.01677, 'gpt-4-0125-preview': {'cost': 0.01677, 'prompt_tokens': 654, 'completion_tokens': 341, 'total_tokens': 995}}), human_input=[])"
            ]
          },
          "metadata": {},
          "execution_count": 14
        }
      ]
    },
    {
      "cell_type": "markdown",
      "source": [
        "## Sopa de letras"
      ],
      "metadata": {
        "id": "8UvzGBy9xRty"
      }
    },
    {
      "cell_type": "code",
      "source": [
        "wordsearch = gamer.last_message(user)[\"content\"]\n",
        "\n",
        "print(wordsearch)"
      ],
      "metadata": {
        "id": "ez3HYUI4uLZA",
        "colab": {
          "base_uri": "https://localhost:8080/"
        },
        "outputId": "0b8d2f9b-0fc9-46b8-df86-94a6c09aa2f9"
      },
      "execution_count": 15,
      "outputs": [
        {
          "output_type": "stream",
          "name": "stdout",
          "text": [
            "Here's your wordsearch game with the words: ULTRAMAR, CANIDO, SAN XOAN, CARANZA, PORTANOVA, ESTEIRO, RECIMIL, MAGDALENA.\n",
            "\n",
            "```\n",
            "E A L R Q L H E Q J Z S Z A S\n",
            "Y Q V G G M A G D A L E N A E\n",
            "U L T R A M A R S L S D D C B\n",
            "P W B Z Q H H F I Q Y Y Y C V\n",
            "O V C X A Q Y M U E W L Y B E\n",
            "R Y N S O X I U C A N I D O L\n",
            "T L D K S C N M D J K W T V X\n",
            "A S A N E X O A N E E G O Q S\n",
            "N L U R N V H K U G U R D E H\n",
            "O P L S J K N A N E S C V G D\n",
            "V L E V Y G E B F B B L K B J\n",
            "A V Y Y A G M P M F Z E J N O\n",
            "A W K H I O T M P I J B G C C\n",
            "P E F P D P Y E S T E I R O P\n",
            "N P S R N B C A R A N Z A D G\n",
            "```\n",
            "\n",
            "Enjoy finding the words!\n"
          ]
        }
      ]
    }
  ]
}