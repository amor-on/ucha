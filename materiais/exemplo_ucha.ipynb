{
  "nbformat": 4,
  "nbformat_minor": 0,
  "metadata": {
    "colab": {
      "provenance": [],
      "authorship_tag": "ABX9TyO3Jp1hHyzaOiS3bG1i1WvK",
      "include_colab_link": true
    },
    "kernelspec": {
      "name": "python3",
      "display_name": "Python 3"
    },
    "language_info": {
      "name": "python"
    }
  },
  "cells": [
    {
      "cell_type": "markdown",
      "metadata": {
        "id": "view-in-github",
        "colab_type": "text"
      },
      "source": [
        "<a href=\"https://colab.research.google.com/github/amor-on/ucha2024/blob/main/materiais/exemplo_ucha.ipynb\" target=\"_parent\"><img src=\"https://colab.research.google.com/assets/colab-badge.svg\" alt=\"Open In Colab\"/></a>"
      ]
    },
    {
      "cell_type": "markdown",
      "source": [
        "### Introdución a Google Colab\n",
        "\n",
        "#### Google Colab: entorno de Notebook na nube\n",
        "Google Colab é unha plataforma de investigación que permite executar código Python no navegador. É unha ferramenta gratuita que proporciona acceso a máquinas virtuais con GPUs e TPUs sen necesidade de configuración complexa. Colab é ideal para a investigación de Machine Learning, análise de datos ou educación.\n",
        "\n",
        "- **Google Colab facilita a execución e compartición de cadernos de Jupyter**, permitindo escribir e executar código, gardar e compartir as nosas análises e acceder a recursos computacionais poderosos, todo desde o navegador.\n",
        "- Un dos maiores atractivos de Google Colab é que é **completamente gratuíto**, permitindo a estudantes, investigadores e profesionais acceder a recursos de computación avanzados sen ningún custo.\n",
        "- **Permite o uso de recursos de computación sen necesidade de configuración complexa**: Colab elimina a necesidade de configuración complexa e xestión de dependencias, facendo máis sinxelo o proceso de desenvolvemento e investigación.\n",
        "- **Resultados no momento**: Colab permite executar o código celda por celda para ir comprobando os erros, solucionándoos de xeito máis dinámico e conseguindo resultados finais máis depurados.\n",
        "\n",
        "#### Vantaxes de usar Colab\n",
        "- **Accesibilidade desde o navegador sen necesidade de instalación local**: Podes acceder aos teus cadernos de Colab desde calquera lugar e en calquera momento, só necesitas unha conexión a Internet e un navegador web.\n",
        "- **Facilita o traballo colaborativo en tempo real**: Google Colab soporta o traballo colaborativo en cadernos de Jupyter, permitindo a múltiples usuarios editar documentos simultaneamente e ver os cambios dos demais en tempo real.\n",
        "- **Acceso a hardware de alto rendemento para procesamento de datos e aprendizaxe automática**: Colab proporciona acceso gratuíto a GPUs e TPUs, o que pode acelerar significativamente os cálculos e os procesos de aprendizaxe automática, facendo posibles proxectos que doutro xeito requerirían unha gran inversión en hardware.\n"
      ],
      "metadata": {
        "id": "VyVVHorMyskk"
      }
    },
    {
      "cell_type": "markdown",
      "source": [
        "## Exemplos de uso de Colab"
      ],
      "metadata": {
        "id": "jMcL8xCz4QbE"
      }
    },
    {
      "cell_type": "markdown",
      "source": [
        "### Operacións matemáticas básicas\n"
      ],
      "metadata": {
        "id": "OqFMlqJg4ZsA"
      }
    },
    {
      "cell_type": "code",
      "source": [
        "a = 10\n",
        "b = 5\n",
        "suma = a + b\n",
        "resta = a - b\n",
        "multiplicacion = a * b\n",
        "division = a / b\n",
        "\n",
        "print(\"Suma:\", suma)\n",
        "print(\"Resta:\", resta)\n",
        "print(\"Multiplicación:\", multiplicacion)\n",
        "print(\"División:\", division)"
      ],
      "metadata": {
        "id": "McGTD4fI0Pek"
      },
      "execution_count": null,
      "outputs": []
    },
    {
      "cell_type": "markdown",
      "source": [
        "### Manipulación de datos"
      ],
      "metadata": {
        "id": "NWmYJ2T04fuu"
      }
    },
    {
      "cell_type": "code",
      "source": [
        "# Creación e manipulación de listas\n",
        "lista_de_numeros = [1, 2, 3, 4, 5]\n",
        "print(\"Lista orixinal:\", lista_de_numeros)\n",
        "\n",
        "# Engadir un elemento ao final da lista\n",
        "lista_de_numeros.append(6)\n",
        "print(\"Lista despois de engadir un elemento:\", lista_de_numeros)\n",
        "\n",
        "# Acceder a un elemento específico da lista\n",
        "terceiro_elemento = lista_de_numeros[2]\n",
        "print(\"O terceiro elemento da lista é:\", terceiro_elemento)\n"
      ],
      "metadata": {
        "id": "_kdx2qyy1OcN"
      },
      "execution_count": null,
      "outputs": []
    },
    {
      "cell_type": "code",
      "source": [
        "import pandas as pd\n",
        "\n",
        "# Creación dun DataFrame simple\n",
        "data = {'Nomes': ['Ana', 'Luís', 'Carmen', 'Xoán'],\n",
        "        'Idade': [28, 34, 29, 42],\n",
        "        'Cidade': ['Santiago', 'A Coruña', 'Vigo', 'Ferrol']}\n",
        "\n",
        "df = pd.DataFrame(data)\n",
        "\n",
        "# Mostrar o DataFrame\n",
        "print(df)"
      ],
      "metadata": {
        "id": "mgCXdrgc1gxV"
      },
      "execution_count": null,
      "outputs": []
    },
    {
      "cell_type": "code",
      "source": [
        "from collections import Counter\n",
        "\n",
        "texto =  (\"Colab é un entorno de caderno Jupyter gratuíto que non require configuración e\"\n",
        "        \"que se executa completamente na nube. Con Colab podes escribir e executar código, gardar e compartir as túas análises, \"\n",
        "        \"e acceder a recursos computacionais poderosos, todo de balde desde o teu navegador.\")\n",
        "\n",
        "# Convertir o texto nunha lista de palabras\n",
        "palabras = texto.split()\n",
        "\n",
        "# Contar a frecuencia de cada palabra\n",
        "contador_de_palabras = Counter(palabras)\n",
        "\n",
        "# Mostrar as 5 palabras máis comúns\n",
        "print(contador_de_palabras.most_common(5))"
      ],
      "metadata": {
        "id": "v8ZI8J1n1mjm"
      },
      "execution_count": null,
      "outputs": []
    },
    {
      "cell_type": "code",
      "source": [
        "import plotly.express as px\n",
        "\n",
        "# Datos de muestra\n",
        "df = px.data.iris()\n",
        "\n",
        "# Crear un gráfico de dispersión interactivo\n",
        "fig = px.scatter(df, x=\"sepal_width\", y=\"sepal_length\", color=\"species\",\n",
        "                 size='petal_length', hover_data=['petal_width'])\n",
        "\n",
        "fig.update_layout(title='Iris Dataset: Ancho do sépalo vs. Largo do sépalo',\n",
        "                  xaxis_title='Ancho do sépalo',\n",
        "                  yaxis_title='Largo do sépalo')\n",
        "\n",
        "fig.show()"
      ],
      "metadata": {
        "id": "ulk10PVK10E7"
      },
      "execution_count": null,
      "outputs": []
    },
    {
      "cell_type": "markdown",
      "source": [
        "# O concepto de Axente\n",
        "\n",
        "Os axentes son esencialmente código. Impulsados por Modelos de Linguaxe de Gran Tamaño (LLMs), son capaces de tomar decisións baseándose nun rol específico e concreto, no contexto no que se insiren, en funcións e ferramentas adicionais...\n",
        "\n",
        "Por exemplo, podemos ter un axente que resuma textos, outro que convirta divisas, un axente de tradución, un experto en formulación química, outro experto en C++ ou mesmo un dedicado á redacción xurídica.\n",
        "\n",
        "A idea principal é que, unha vez identificadas correctamente as distintas partes dunha tarefa, podemos deseñar axentes especializados en cada unha destas partes para completar a tarefa de maneira automática.\n",
        "\n",
        "\n",
        "Adicionalmente, é importante notar que os axentes poden ser tanto robóticos (físicos) como virtuais. Isto significa que a nosa tecnoloxía non só se aplica no mundo dixital senón que tamén pode ter aplicacións no mundo físico, extendendo así o alcance e potencial dos axentes intelixentes.\n",
        "\n",
        "Este enfoque permítenos abordar tarefas complexas de maneira eficiente, dividíndoas en subtarefas máis xestionables que poden ser resoltas por axentes especializados. Deste xeito, podemos automatizar procesos que tradicionalmente requerían unha considerable cantidade de traballo manual e coñecemento específico."
      ],
      "metadata": {
        "id": "e8PR27b1yPnJ"
      }
    },
    {
      "cell_type": "markdown",
      "source": [
        "## Configuración inicial de AutoGen"
      ],
      "metadata": {
        "id": "2ZXlzHUCv50w"
      }
    },
    {
      "cell_type": "code",
      "execution_count": null,
      "metadata": {
        "id": "cMGdfDKdZsv-"
      },
      "outputs": [],
      "source": [
        "!pip install -qq pyautogen"
      ]
    },
    {
      "cell_type": "code",
      "source": [
        "import autogen\n",
        "from typing import List, Dict\n",
        "from google.colab import userdata\n",
        "\n",
        "def is_termination_msg(content) -> bool:\n",
        "    have_content = content.get(\"content\", None) is not None\n",
        "    if have_content and \"TERMINATE\" in content[\"content\"]:\n",
        "        return True\n",
        "    return False\n",
        "\n",
        "oai_apikey = userdata.get('OPENAI_API_KEY')\n",
        "\n",
        "config_list = [{'model': 'gpt-4-0125-preview','api_key': oai_apikey}]\n",
        "\n",
        "clean_config = {\n",
        "    \"temperature\": 0,\n",
        "    \"config_list\": config_list,\n",
        "}"
      ],
      "metadata": {
        "id": "tFzkWPeVaFzi"
      },
      "execution_count": null,
      "outputs": []
    },
    {
      "cell_type": "markdown",
      "source": [
        "## Configuración dos axentes"
      ],
      "metadata": {
        "id": "BTUyivChvYfT"
      }
    },
    {
      "cell_type": "code",
      "source": [
        "writer_message= \"\"\"You are a master of crafting science fiction micro-stories. Use the provided list of words to weave a captivating short micro-story. Your narrative should be concise, limited to one paragraph.\n",
        "Please focus solely on the creative task; your story will subsequently be handed over to a translation specialist.\"\"\"\n",
        "\n",
        "# writer configuration\n",
        "writer = autogen.AssistantAgent(\n",
        "    name=\"writer\",\n",
        "    system_message=writer_message,\n",
        "    llm_config=clean_config,\n",
        "    human_input_mode='NEVER',\n",
        "    code_execution_config=False,\n",
        "    description=\"This agent creates micro-stories given a list of several words\",\n",
        ")\n",
        "\n",
        "translator_message= \"\"\"You are an English-Galician translator of science fiction micro-stories. For each micro-story you receive, you will provide its translation into Galician. Pay attention to all details and act as a professional translator.\"\"\"\n",
        "\n",
        "# translator configuration\n",
        "translator = autogen.AssistantAgent(\n",
        "    name=\"translator\",\n",
        "    system_message=translator_message,\n",
        "    llm_config=clean_config,\n",
        "    human_input_mode='NEVER',\n",
        "    code_execution_config=False,\n",
        "    description=\"This agent translates micro-stories from English to Galician\",\n",
        ")\n",
        "\n",
        "user = autogen.UserProxyAgent(\n",
        "    name='user',\n",
        "    code_execution_config={\"work_dir\": \"coding\"},\n",
        "    is_termination_msg=is_termination_msg,\n",
        "    human_input_mode='TERMINATE',\n",
        "    llm_config=clean_config,\n",
        "    max_consecutive_auto_reply=20,\n",
        "    system_message=\"You are the User Proxy. Reply 'TERMINATE' once the task is done.\",\n",
        ")\n",
        "\n",
        "groupchat = autogen.GroupChat(agents=[user, writer, translator], messages=[], max_round=3)\n",
        "\n",
        "manager = autogen.GroupChatManager(groupchat=groupchat, llm_config=clean_config)"
      ],
      "metadata": {
        "id": "VhZNfYfAaeR1"
      },
      "execution_count": null,
      "outputs": []
    },
    {
      "cell_type": "markdown",
      "source": [
        "## Inicio da conversa: user_proxy -- manager"
      ],
      "metadata": {
        "id": "683an5KAvfGs"
      }
    },
    {
      "cell_type": "code",
      "source": [
        "message = \"We need a micro story with the words: Ferrol, Sea, Artificial Intelligence, CIFP Rodolfo Ucha. The final result will be the translated micro-story.\"\n",
        "\n",
        "user.initiate_chat(manager, message=message)"
      ],
      "metadata": {
        "id": "8SiVXt5Hm1Ap"
      },
      "execution_count": null,
      "outputs": []
    },
    {
      "cell_type": "markdown",
      "source": [
        "## Microconto traducido"
      ],
      "metadata": {
        "id": "mjy0WyOSvvj7"
      }
    },
    {
      "cell_type": "code",
      "source": [
        "from IPython.display import display, Markdown\n",
        "\n",
        "microstory = translator.last_message(manager)[\"content\"]\n",
        "\n",
        "display(Markdown(microstory))"
      ],
      "metadata": {
        "id": "BDxrMSMxoMi5"
      },
      "execution_count": null,
      "outputs": []
    },
    {
      "cell_type": "markdown",
      "source": [
        "## Definición dunha función"
      ],
      "metadata": {
        "id": "2U7pMNl5wHo_"
      }
    },
    {
      "cell_type": "code",
      "source": [
        "from random import randint, shuffle\n",
        "\n",
        "def create_word_search(uppercase_words):\n",
        "    \"\"\" Create a word search puzzle with the given capitalized words, and return as a formatted string. \"\"\"\n",
        "    grid_size=15\n",
        "    grid = [[' ' for _ in range(grid_size)] for _ in range(grid_size)]\n",
        "    orientations = ['leftright', 'updown', 'diagonalup', 'diagonaldown']\n",
        "\n",
        "    for word in uppercase_words:\n",
        "        word_length = len(word)\n",
        "        placed = False\n",
        "        while not placed:\n",
        "            orientation = orientations[randint(0, len(orientations) - 1)]\n",
        "            if orientation == 'leftright':\n",
        "                step_i, step_j = 0, 1\n",
        "            elif orientation == 'updown':\n",
        "                step_i, step_j = 1, 0\n",
        "            elif orientation == 'diagonalup':\n",
        "                step_i, step_j = -1, 1\n",
        "            elif orientation == 'diagonaldown':\n",
        "                step_i, step_j = 1, 1\n",
        "\n",
        "            position_i = randint(0, grid_size - 1)\n",
        "            position_j = randint(0, grid_size - 1)\n",
        "\n",
        "            ending_i = position_i + step_i * word_length\n",
        "            ending_j = position_j + step_j * word_length\n",
        "\n",
        "            if ending_i < 0 or ending_i >= grid_size: continue\n",
        "            if ending_j < 0 or ending_j >= grid_size: continue\n",
        "\n",
        "            failed = False\n",
        "            for i in range(word_length):\n",
        "                character = word[i]\n",
        "                new_position_i = position_i + i * step_i\n",
        "                new_position_j = position_j + i * step_j\n",
        "\n",
        "                if grid[new_position_i][new_position_j] not in (' ', character):\n",
        "                    failed = True\n",
        "                    break\n",
        "\n",
        "            if failed:\n",
        "                continue\n",
        "\n",
        "            for i in range(word_length):\n",
        "                character = word[i]\n",
        "                new_position_i = position_i + i * step_i\n",
        "                new_position_j = position_j + i * step_j\n",
        "                grid[new_position_i][new_position_j] = character\n",
        "\n",
        "            placed = True\n",
        "\n",
        "    # Fill the remaining spaces with random letters\n",
        "    for i in range(grid_size):\n",
        "        for j in range(grid_size):\n",
        "            if grid[i][j] == ' ':\n",
        "                grid[i][j] = chr(randint(65, 90))  # ASCII values for A-Z\n",
        "\n",
        "    # Convert the grid to a string representation\n",
        "    return \"\\n\".join([\" \".join(row) for row in grid])"
      ],
      "metadata": {
        "id": "yKjQaFXiqlIg"
      },
      "execution_count": null,
      "outputs": []
    },
    {
      "cell_type": "markdown",
      "source": [
        "## Novos axentes para a nova tarefa"
      ],
      "metadata": {
        "id": "0xX5hKCzxK--"
      }
    },
    {
      "cell_type": "code",
      "source": [
        "gamer_config = {\n",
        "    \"temperature\": 0.01,\n",
        "    \"functions\": [\n",
        "        {\n",
        "            \"name\": \"create_word_search\",\n",
        "            \"description\": \"Generate a word search puzzle from a list of capitalized words, returning a formatted string representation of the puzzle grid.\",\n",
        "            \"parameters\": {\n",
        "                \"type\": \"object\",\n",
        "                \"properties\": {\n",
        "                    \"uppercase_words\": {\n",
        "                        \"type\": \"array\",\n",
        "                        \"items\": {\n",
        "                            \"type\": \"string\"\n",
        "                        },\n",
        "                        \"description\": \"A list of capitalized words to be included in the word search puzzle.\",\n",
        "                    }\n",
        "                },\n",
        "                \"required\": [\"uppercase_words\"],\n",
        "            },\n",
        "        }\n",
        "    ],\n",
        "    \"config_list\": config_list,\n",
        "}"
      ],
      "metadata": {
        "id": "NkkOUYIqsoHe"
      },
      "execution_count": null,
      "outputs": []
    },
    {
      "cell_type": "code",
      "source": [
        "gamer_message= \"\"\"You are a specialist in creating wordsearches given a set of words.\n",
        "You have access to the `create_word_search` function and will present its result clearly. The function is called with a list of words and returns a grid with the generated alphabet soup. Be sure to keep the formatting.\"\"\"\n",
        "\n",
        "# writer configuration\n",
        "gamer = autogen.AssistantAgent(\n",
        "    name=\"gamer\",\n",
        "    system_message=gamer_message,\n",
        "    llm_config=gamer_config,\n",
        "    human_input_mode='NEVER',\n",
        "    code_execution_config=False,\n",
        "    description=\"This agent creates a wordsearch given a list of words.\",\n",
        ")\n",
        "\n",
        "user = autogen.UserProxyAgent(\n",
        "    name='user',\n",
        "    code_execution_config={\"work_dir\": \"coding\"},\n",
        "    is_termination_msg=is_termination_msg,\n",
        "    human_input_mode='NEVER',\n",
        "    llm_config=clean_config,\n",
        "    max_consecutive_auto_reply=1,\n",
        "    system_message=\"You are the User Proxy. Reply 'TERMINATE' once the task is done.\",\n",
        "    function_map = {\"create_word_search\": create_word_search}\n",
        ")\n",
        "\n",
        "user.initiate_chat(recipient=gamer, message=\"FRIEND, LAST, ROBBERY, SHOP\")"
      ],
      "metadata": {
        "id": "FLtMAAM2r0Yv"
      },
      "execution_count": null,
      "outputs": []
    },
    {
      "cell_type": "markdown",
      "source": [
        "## Sopa de letras"
      ],
      "metadata": {
        "id": "8UvzGBy9xRty"
      }
    },
    {
      "cell_type": "code",
      "source": [
        "wordsearch = gamer.last_message(user)[\"content\"]\n",
        "\n",
        "print(wordsearch)"
      ],
      "metadata": {
        "id": "ez3HYUI4uLZA"
      },
      "execution_count": null,
      "outputs": []
    }
  ]
}